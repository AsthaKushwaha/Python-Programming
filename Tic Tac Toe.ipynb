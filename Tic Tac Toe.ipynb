{
 "cells": [
  {
   "cell_type": "code",
   "execution_count": 48,
   "metadata": {},
   "outputs": [],
   "source": [
    "game_still_going = True\n",
    "winner = None\n",
    "current_player = \"X\"\n",
    "board = [\"-\",\"-\",\"-\",\n",
    "         \"-\",\"-\",\"-\",\n",
    "         \"-\",\"-\",\"-\"]"
   ]
  },
  {
   "cell_type": "code",
   "execution_count": 49,
   "metadata": {},
   "outputs": [],
   "source": [
    "def display_board():\n",
    "    print(board[0] + \" | \" + board[1] + \" | \" + board[2] )\n",
    "    print(board[3] + \" | \" + board[4] + \" | \" + board[5] ) \n",
    "    print(board[6] + \" | \" + board[7] + \" | \" + board[8] )"
   ]
  },
  {
   "cell_type": "code",
   "execution_count": 50,
   "metadata": {},
   "outputs": [],
   "source": [
    "def play_game():\n",
    "    display_board()\n",
    "    while game_still_going:\n",
    "        handle_turn(current_player)\n",
    "        check_if_game_over()\n",
    "        flip_player()\n",
    "    if winner == \"X\" or winner == \"0\":\n",
    "        print(winner + \"won.\")\n",
    "    elif winner == None:\n",
    "              print(\"Tie.\")\n",
    "    "
   ]
  },
  {
   "cell_type": "code",
   "execution_count": 51,
   "metadata": {},
   "outputs": [],
   "source": [
    "def handle_turn():\n",
    "    position = input(\"Choose a position from 1-9 :\")\n",
    "    position = int(position) - 1\n",
    "    board[position] = \"X\""
   ]
  },
  {
   "cell_type": "code",
   "execution_count": 52,
   "metadata": {},
   "outputs": [],
   "source": [
    "def check_if_game_over():\n",
    "    check_if_win()\n",
    "    check_if_tie()"
   ]
  },
  {
   "cell_type": "code",
   "execution_count": 53,
   "metadata": {},
   "outputs": [],
   "source": [
    "def check_if_win():\n",
    "    global winner\n",
    "    row_winner = check_rows()\n",
    "    column_winner = check_columns()   \n",
    "    diagonal_winner = check_diagonals()\n",
    "    if row_winner:\n",
    "        winner = row_winner\n",
    "    elif column_winner:\n",
    "        winner = column_winner\n",
    "    elif diagonal_winner:\n",
    "        winner = diagona_winner\n",
    "    else:\n",
    "        winner = None\n",
    "    return\n",
    "    \n",
    "    "
   ]
  },
  {
   "cell_type": "code",
   "execution_count": 54,
   "metadata": {},
   "outputs": [],
   "source": [
    "def check_rows():\n",
    "    global game_still_going\n",
    "    row_1 = board[0] == board[1] == board[2] != \"-\"\n",
    "    row_2 = board[3] == board[4] == board[5] != \"-\"\n",
    "    row_3 = board[6] == board[7] == board[8] != \"-\"\n",
    "    \n",
    "    if row_1 or row_2 or row_3:\n",
    "        game_still_going = False\n",
    "    if row_1:\n",
    "        return board[0]\n",
    "    elif row_2:\n",
    "        return board[3]\n",
    "    elif row_3:\n",
    "        return board[6]\n",
    "    \n",
    "    return"
   ]
  },
  {
   "cell_type": "code",
   "execution_count": 55,
   "metadata": {},
   "outputs": [],
   "source": [
    "def check_columns():\n",
    "    global game_still_going\n",
    "    column_1 = board[0] == board[3] == board[6] != \"-\"\n",
    "    column_2 = board[1] == board[4] == board[7] != \"-\"\n",
    "    column_3 = board[2] == board[5] == board[9] != \"-\"\n",
    "    \n",
    "    if column_1 or column_2 or column_3:\n",
    "        game_still_going = False\n",
    "    if column_1:\n",
    "        return board[0]\n",
    "    elif column_2:\n",
    "        return board[1]\n",
    "    elif column_3:\n",
    "        return board[2]\n",
    "    \n",
    "    return\n",
    "    \n",
    "    "
   ]
  },
  {
   "cell_type": "code",
   "execution_count": 56,
   "metadata": {},
   "outputs": [],
   "source": [
    "def check_diagonals():\n",
    "    global game_still_going\n",
    "    diagonal_1 = board[0] == board[4] == board[8] != \"-\"\n",
    "    diagonal_2 = board[6] == board[4] == board[2] != \"-\"\n",
    "   \n",
    "    if diagonal_1 or diagonal_2:\n",
    "        game_still_going = False\n",
    "    if diagonal_1:\n",
    "        return board[0]\n",
    "    elif diagonal_2:\n",
    "        return board[6]\n",
    "      \n",
    "    return"
   ]
  },
  {
   "cell_type": "code",
   "execution_count": 57,
   "metadata": {},
   "outputs": [
    {
     "ename": "SyntaxError",
     "evalue": "unexpected EOF while parsing (<ipython-input-57-27232246d50c>, line 1)",
     "output_type": "error",
     "traceback": [
      "\u001b[0;36m  File \u001b[0;32m\"<ipython-input-57-27232246d50c>\"\u001b[0;36m, line \u001b[0;32m1\u001b[0m\n\u001b[0;31m    def check_if_tie():\u001b[0m\n\u001b[0m                       ^\u001b[0m\n\u001b[0;31mSyntaxError\u001b[0m\u001b[0;31m:\u001b[0m unexpected EOF while parsing\n"
     ]
    }
   ],
   "source": [
    "def check_if_tie():"
   ]
  },
  {
   "cell_type": "code",
   "execution_count": 58,
   "metadata": {},
   "outputs": [
    {
     "ename": "SyntaxError",
     "evalue": "unexpected EOF while parsing (<ipython-input-58-b250824c79c2>, line 1)",
     "output_type": "error",
     "traceback": [
      "\u001b[0;36m  File \u001b[0;32m\"<ipython-input-58-b250824c79c2>\"\u001b[0;36m, line \u001b[0;32m1\u001b[0m\n\u001b[0;31m    def flip_player():\u001b[0m\n\u001b[0m                      ^\u001b[0m\n\u001b[0;31mSyntaxError\u001b[0m\u001b[0;31m:\u001b[0m unexpected EOF while parsing\n"
     ]
    }
   ],
   "source": [
    "def flip_player():"
   ]
  },
  {
   "cell_type": "code",
   "execution_count": 59,
   "metadata": {},
   "outputs": [
    {
     "name": "stdout",
     "output_type": "stream",
     "text": [
      "- | - | -\n",
      "- | - | -\n",
      "- | - | -\n"
     ]
    }
   ],
   "source": [
    " display_board()"
   ]
  },
  {
   "cell_type": "code",
   "execution_count": 60,
   "metadata": {},
   "outputs": [
    {
     "ename": "NameError",
     "evalue": "name 'position' is not defined",
     "output_type": "error",
     "traceback": [
      "\u001b[0;31m---------------------------------------------------------------------------\u001b[0m",
      "\u001b[0;31mNameError\u001b[0m                                 Traceback (most recent call last)",
      "\u001b[0;32m<ipython-input-60-00947ebe1327>\u001b[0m in \u001b[0;36m<module>\u001b[0;34m\u001b[0m\n\u001b[0;32m----> 1\u001b[0;31m \u001b[0mboard\u001b[0m\u001b[0;34m[\u001b[0m\u001b[0mposition\u001b[0m\u001b[0;34m]\u001b[0m \u001b[0;34m=\u001b[0m \u001b[0;34m\"X\"\u001b[0m\u001b[0;34m\u001b[0m\u001b[0;34m\u001b[0m\u001b[0m\n\u001b[0m",
      "\u001b[0;31mNameError\u001b[0m: name 'position' is not defined"
     ]
    }
   ],
   "source": [
    "board[position] = \"X\""
   ]
  },
  {
   "cell_type": "code",
   "execution_count": null,
   "metadata": {},
   "outputs": [],
   "source": []
  },
  {
   "cell_type": "code",
   "execution_count": null,
   "metadata": {},
   "outputs": [],
   "source": []
  }
 ],
 "metadata": {
  "kernelspec": {
   "display_name": "Python 3",
   "language": "python",
   "name": "python3"
  },
  "language_info": {
   "codemirror_mode": {
    "name": "ipython",
    "version": 3
   },
   "file_extension": ".py",
   "mimetype": "text/x-python",
   "name": "python",
   "nbconvert_exporter": "python",
   "pygments_lexer": "ipython3",
   "version": "3.7.6"
  }
 },
 "nbformat": 4,
 "nbformat_minor": 4
}
